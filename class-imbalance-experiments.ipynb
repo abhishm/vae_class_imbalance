{
 "cells": [
  {
   "cell_type": "markdown",
   "metadata": {},
   "source": [
    "### What is the impact of data imbalance?"
   ]
  },
  {
   "cell_type": "code",
   "execution_count": 1,
   "metadata": {
    "collapsed": true
   },
   "outputs": [],
   "source": [
    "from sklearn.linear_model import LogisticRegression"
   ]
  },
  {
   "cell_type": "code",
   "execution_count": 2,
   "metadata": {
    "collapsed": true
   },
   "outputs": [],
   "source": [
    "import numpy as np"
   ]
  },
  {
   "cell_type": "markdown",
   "metadata": {},
   "source": [
    "### Data generation\n",
    "\n",
    "The input consists of three number between (0, 1) independently generated. The output is 1 when the sum of the number is greater than 1.5, otherwise 0."
   ]
  },
  {
   "cell_type": "code",
   "execution_count": 3,
   "metadata": {
    "collapsed": true
   },
   "outputs": [],
   "source": [
    "def get_imbalanced_data():\n",
    "    data = np.random.random((10000, 3))\n",
    "    y = (data.sum(axis=1) > 1.5).astype(np.int8)\n",
    "    x_zeros = data[(y == 0)][:990]\n",
    "    assert len(x_zeros) == 990, \"retry\"\n",
    "    x_ones = data[(y == 1)][:10]\n",
    "    x = np.vstack((x_ones, x_zeros))\n",
    "    y = (x.sum(axis=1) > 1.5).astype(int)\n",
    "    return x, y"
   ]
  },
  {
   "cell_type": "code",
   "execution_count": 4,
   "metadata": {
    "collapsed": true
   },
   "outputs": [],
   "source": [
    "def get_balanced_data():\n",
    "    data = np.random.random((10000, 3))\n",
    "    y = (data.sum(axis=1) > 1.5).astype(np.int8)\n",
    "    x_zeros = data[(y == 0)][:500]\n",
    "    assert len(x_zeros) == 500, \"retry\"\n",
    "    x_ones = data[(y == 1)][:500]\n",
    "    x = np.vstack((x_ones, x_zeros))\n",
    "    y = (x.sum(axis=1) > 1.5).astype(int)\n",
    "    return x, y"
   ]
  },
  {
   "cell_type": "code",
   "execution_count": 5,
   "metadata": {
    "collapsed": true
   },
   "outputs": [],
   "source": [
    "def train(x, y):\n",
    "    lr = LogisticRegression(C=10000) # High value of C to ensure no weight regularization\n",
    "    lr.fit(x, y)\n",
    "    return lr    "
   ]
  },
  {
   "cell_type": "markdown",
   "metadata": {},
   "source": [
    "### Train balanced data"
   ]
  },
  {
   "cell_type": "markdown",
   "metadata": {},
   "source": [
    "We train a logisitc regression model here. The output of the logisitc regression model will be a plane with coefficients $(c_0, c_1, c_2, c_3)$. For a given input $(x_1, x_2, x_3)$, we will classify the input to belong to class 1 if $c_0 + c_1 x_1 + c_2 x_2 + c_3 x_3 > 0$. Otherwise we say that it belongs to class 0. For a good classifier, $E_{x}[c_0 + c_1 x_1 + c_2 x_2 + c_3 x_3] = 0$. We will check this value for the trained model for both class balanced and imbalanced data"
   ]
  },
  {
   "cell_type": "code",
   "execution_count": 8,
   "metadata": {},
   "outputs": [
    {
     "name": "stdout",
     "output_type": "stream",
     "text": [
      "[0.58999268]\n",
      "[0.02556999]\n",
      "[-0.22096021]\n",
      "[0.56560189]\n",
      "[-0.05742626]\n",
      "[0.31944081]\n",
      "[-0.1985386]\n",
      "[-0.27049313]\n",
      "[-0.75952504]\n",
      "[-0.36116866]\n"
     ]
    }
   ],
   "source": [
    "for _ in range(10):\n",
    "    x_balanced, y_balanced = get_balanced_data()\n",
    "    lr_balanced = train(x_balanced, y_balanced)\n",
    "    print(lr_balanced.intercept_ + lr_balanced.coef_.sum()/2)"
   ]
  },
  {
   "cell_type": "markdown",
   "metadata": {},
   "source": [
    "### Train imbalanced data"
   ]
  },
  {
   "cell_type": "code",
   "execution_count": 9,
   "metadata": {},
   "outputs": [
    {
     "name": "stdout",
     "output_type": "stream",
     "text": [
      "[-2.33068237]\n",
      "[-4.96141314]\n",
      "[-7.99122521]\n",
      "[-3.20028506]\n",
      "[-4.41962578]\n",
      "[-8.44975192]\n",
      "[-6.70729705]\n",
      "[-6.13358125]\n",
      "[-2.65972415]\n",
      "[-4.93137753]\n"
     ]
    }
   ],
   "source": [
    "for _ in range(10):\n",
    "    x_imbalanced, y_imbalanced = get_imbalanced_data()\n",
    "    lr_imbalanced = train(x_imbalanced, y_imbalanced)\n",
    "    print(lr_imbalanced.intercept_ + lr_imbalanced.coef_.sum()/2)"
   ]
  },
  {
   "cell_type": "markdown",
   "metadata": {},
   "source": [
    "**The particular results indicate that because of the class imbalance problem, the model is more likely to say a class 0.**"
   ]
  },
  {
   "cell_type": "markdown",
   "metadata": {},
   "source": [
    "One way to overcome this problem is to change the threshold for deciding the class label. In particular, find the hyperparameter $\\eta$ and determine an example belongs to class 1 when $c_0 + c_1 x_1 + c_2 x_2 + c_3 x_3 > \\eta$. However, now you have to tune a new hyper-parameter."
   ]
  },
  {
   "cell_type": "code",
   "execution_count": null,
   "metadata": {
    "collapsed": true
   },
   "outputs": [],
   "source": []
  }
 ],
 "metadata": {
  "kernelspec": {
   "display_name": "Python 3",
   "language": "python",
   "name": "python3"
  },
  "language_info": {
   "codemirror_mode": {
    "name": "ipython",
    "version": 3
   },
   "file_extension": ".py",
   "mimetype": "text/x-python",
   "name": "python",
   "nbconvert_exporter": "python",
   "pygments_lexer": "ipython3",
   "version": "3.6.2"
  }
 },
 "nbformat": 4,
 "nbformat_minor": 2
}
